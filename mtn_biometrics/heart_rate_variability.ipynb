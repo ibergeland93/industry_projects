{
 "cells": [
  {
   "cell_type": "code",
   "execution_count": null,
   "metadata": {},
   "outputs": [],
   "source": [
    "\"\"\"\n",
    "By analyzing at the variability in the duration of time between heart beats, one can understand several things, such as: how fit people are, or even if they are depressed.\n",
    "- resources: \n",
    "> https://www.whoop.com/us/en/thelocker/heart-rate-variability-hrv/\n",
    "> https://python-heart-rate-analysis-toolkit.readthedocs.io/en/latest/heartrateanalysis.html\n",
    "> https://python-heart-rate-analysis-toolkit.readthedocs.io/en/latest/ \n",
    "\n",
    "The goal of this project is to to use the inputs (data) below to do the following things on the app:\n",
    "> Classify movement vs sitting vs laying down, etc.\n",
    "> Classify periods of rapid altitude gain.\n",
    "> Classify periods of physical exertion.\n",
    "> Classify sleep and sleep stages.\n",
    "> Estimate physical recovery stage using HRV.\n",
    "> Assess heart-health using HRV.\n",
    "\n",
    "Below is the list:\n",
    "> accel. The accelerometer reading of the x, y, and z axes as an Array of Number values in millig-units.\n",
    "> altitude. The altitude above mean sea level in meters (m).\n",
    "> cadence. The cadence in revolutions per minute (rpm).\n",
    "> heading. The true north referenced heading in radians.\n",
    "> heartRate. The heart rate in beats per minute (bpm).\n",
    "> mag. The magnetometer reading of the x, y, and z axes as an Array of Number values in milliGauss (mG).\n",
    "> oxygenSaturation. The current oxygen saturation in percent (%).\n",
    "> power. The power in Watts (W).\n",
    "> pressure. The barometric pressure in Pascals (Pa).\n",
    "> speed. The speed in meters per second (m/s).\n",
    "> temperature. The temperature in degrees Celsius (C).\n",
    "> heartBeatIntervals. The most recent beat-to-beat interval data as an Array of Number objects in milliseconds (ms).\n",
    "\n",
    "The accelerometer has additional values:\n",
    "> pitch. The Array of pitch values as Floats in degrees.\n",
    "> power. The Array of vector power values as Numbers in millig-units.\n",
    "> roll. The Array of roll values as Floats in degrees.\n",
    "> x. The Array of x axis values as Numbers in millig-units.\n",
    "> y. The Array of y axis values as Numbers in millig-units.\n",
    "> z. The Array of z axis values as Numbers in millig-units.\n",
    " \n",
    "\"\"\""
   ]
  },
  {
   "cell_type": "code",
   "execution_count": 58,
   "metadata": {},
   "outputs": [],
   "source": [
    "import heartpy as hp\n",
    "\n",
    "data, _ = hp.load_exampledata(0)\n",
    "\n",
    "working_data, measures = hp.process(data, 100.0, freq_method='fft')"
   ]
  },
  {
   "cell_type": "code",
   "execution_count": 18,
   "metadata": {},
   "outputs": [
    {
     "data": {
      "text/plain": [
       "{'hr': array([530., 518., 506., ..., 492., 493., 494.]),\n",
       " 'peaklist': [63,\n",
       "  165,\n",
       "  264,\n",
       "  360,\n",
       "  460,\n",
       "  565,\n",
       "  674,\n",
       "  773,\n",
       "  863,\n",
       "  953,\n",
       "  1048,\n",
       "  1156,\n",
       "  1272,\n",
       "  1385,\n",
       "  1487,\n",
       "  1592,\n",
       "  1698,\n",
       "  1803,\n",
       "  1897,\n",
       "  1994,\n",
       "  2097,\n",
       "  2206,\n",
       "  2308,\n",
       "  2406],\n",
       " 'ybeat': [795.0,\n",
       "  782.0,\n",
       "  768.0,\n",
       "  794.0,\n",
       "  790.0,\n",
       "  802.0,\n",
       "  810.0,\n",
       "  788.0,\n",
       "  773.0,\n",
       "  822.0,\n",
       "  831.0,\n",
       "  843.0,\n",
       "  854.0,\n",
       "  812.0,\n",
       "  786.0,\n",
       "  804.0,\n",
       "  792.0,\n",
       "  772.0,\n",
       "  787.0,\n",
       "  823.0,\n",
       "  828.0,\n",
       "  807.0,\n",
       "  786.0,\n",
       "  824.0],\n",
       " 'rolling_mean': array([617.98853403, 617.98853403, 617.98853403, ..., 617.98853403,\n",
       "        617.98853403, 617.98853403]),\n",
       " 'RR_list': array([1020.,  990.,  960., 1000., 1050., 1090.,  990.,  900.,  900.,\n",
       "         950., 1080., 1160., 1130., 1020., 1050., 1060., 1050.,  940.,\n",
       "         970., 1030., 1090., 1020.,  980.]),\n",
       " 'RR_indices': [(63, 165),\n",
       "  (165, 264),\n",
       "  (264, 360),\n",
       "  (360, 460),\n",
       "  (460, 565),\n",
       "  (565, 674),\n",
       "  (674, 773),\n",
       "  (773, 863),\n",
       "  (863, 953),\n",
       "  (953, 1048),\n",
       "  (1048, 1156),\n",
       "  (1156, 1272),\n",
       "  (1272, 1385),\n",
       "  (1385, 1487),\n",
       "  (1487, 1592),\n",
       "  (1592, 1698),\n",
       "  (1698, 1803),\n",
       "  (1803, 1897),\n",
       "  (1897, 1994),\n",
       "  (1994, 2097),\n",
       "  (2097, 2206),\n",
       "  (2206, 2308),\n",
       "  (2308, 2406)],\n",
       " 'RR_diff': masked_array(data=[30.0, 30.0, 40.0, 50.0, 40.0, 100.0, 90.0, 0.0, 50.0,\n",
       "                    130.0, 80.0, 30.0, 110.0, 30.0, 10.0, 10.0, 110.0,\n",
       "                    30.0, 60.0, 60.0, 70.0, 40.0],\n",
       "              mask=[False, False, False, False, False, False, False, False,\n",
       "                    False, False, False, False, False, False, False, False,\n",
       "                    False, False, False, False, False, False],\n",
       "        fill_value=1e+20),\n",
       " 'RR_sqdiff': masked_array(data=[  900.,   900.,  1600.,  2500.,  1600., 10000.,  8100.,\n",
       "                        0.,  2500., 16900.,  6400.,   900., 12100.,   900.,\n",
       "                      100.,   100., 12100.,   900.,  3600.,  3600.,  4900.,\n",
       "                     1600.],\n",
       "              mask=False,\n",
       "        fill_value=1e+20),\n",
       " 'rrsd': 65.76006108019,\n",
       " 'best': 20,\n",
       " 'removed_beats': array([], dtype=int64),\n",
       " 'removed_beats_y': array([], dtype=float64),\n",
       " 'binary_peaklist': array([1, 1, 1, 1, 1, 1, 1, 1, 1, 1, 1, 1, 1, 1, 1, 1, 1, 1, 1, 1, 1, 1,\n",
       "        1, 1]),\n",
       " 'RR_masklist': [0,\n",
       "  0,\n",
       "  0,\n",
       "  0,\n",
       "  0,\n",
       "  0,\n",
       "  0,\n",
       "  0,\n",
       "  0,\n",
       "  0,\n",
       "  0,\n",
       "  0,\n",
       "  0,\n",
       "  0,\n",
       "  0,\n",
       "  0,\n",
       "  0,\n",
       "  0,\n",
       "  0,\n",
       "  0,\n",
       "  0,\n",
       "  0,\n",
       "  0],\n",
       " 'RR_list_cor': [1020.0,\n",
       "  990.0,\n",
       "  960.0,\n",
       "  1000.0,\n",
       "  1050.0,\n",
       "  1090.0,\n",
       "  990.0,\n",
       "  900.0,\n",
       "  900.0,\n",
       "  950.0,\n",
       "  1080.0,\n",
       "  1160.0,\n",
       "  1130.0,\n",
       "  1020.0,\n",
       "  1050.0,\n",
       "  1060.0,\n",
       "  1050.0,\n",
       "  940.0,\n",
       "  970.0,\n",
       "  1030.0,\n",
       "  1090.0,\n",
       "  1020.0,\n",
       "  980.0],\n",
       " 'nn20': masked_array(data=[30.0, 30.0, 40.0, 50.0, 40.0, 100.0, 90.0, 50.0, 130.0,\n",
       "                    80.0, 30.0, 110.0, 30.0, 110.0, 30.0, 60.0, 60.0, 70.0,\n",
       "                    40.0],\n",
       "              mask=[False, False, False, False, False, False, False, False,\n",
       "                    False, False, False, False, False, False, False, False,\n",
       "                    False, False, False],\n",
       "        fill_value=1e+20),\n",
       " 'nn50': masked_array(data=[100.0, 90.0, 130.0, 80.0, 110.0, 110.0, 60.0, 60.0,\n",
       "                    70.0],\n",
       "              mask=[False, False, False, False, False, False, False, False,\n",
       "                    False],\n",
       "        fill_value=1e+20),\n",
       " 'poincare': {'x_plus': array([1020.,  990.,  960., 1000., 1050., 1090.,  990.,  900.,  900.,\n",
       "          950., 1080., 1160., 1130., 1020., 1050., 1060., 1050.,  940.,\n",
       "          970., 1030., 1090., 1020.]),\n",
       "  'x_minus': array([ 990.,  960., 1000., 1050., 1090.,  990.,  900.,  900.,  950.,\n",
       "         1080., 1160., 1130., 1020., 1050., 1060., 1050.,  940.,  970.,\n",
       "         1030., 1090., 1020.,  980.]),\n",
       "  'x_one': array([ 21.21320344,  21.21320344, -28.28427125, -35.35533906,\n",
       "         -28.28427125,  70.71067812,  63.63961031,   0.        ,\n",
       "         -35.35533906, -91.92388155, -56.56854249,  21.21320344,\n",
       "          77.78174593, -21.21320344,  -7.07106781,   7.07106781,\n",
       "          77.78174593, -21.21320344, -42.42640687, -42.42640687,\n",
       "          49.49747468,  28.28427125]),\n",
       "  'x_two': array([1421.28463018, 1378.85822331, 1385.92929113, 1449.56890143,\n",
       "         1513.20851174, 1470.78210487, 1336.43181644, 1272.79220614,\n",
       "         1308.1475452 , 1435.42676581, 1583.91918986, 1619.27452892,\n",
       "         1520.27957955, 1463.71103706, 1491.9953083 , 1491.9953083 ,\n",
       "         1407.14249456, 1350.57395207, 1414.21356237, 1499.06637612,\n",
       "         1491.9953083 , 1414.21356237])},\n",
       " 'breathing_signal': array([1020.03170977, 1020.03614097, 1020.04047943, ...,  979.83533006,\n",
       "         979.88536312,  979.93563217]),\n",
       " 'breathing_psd': array([2.21456241e+02, 3.93214395e+02, 7.23467212e+02, ...,\n",
       "        7.31147198e-07, 7.31147133e-07, 7.31147090e-07]),\n",
       " 'breathing_frq': array([4.26803244e-02, 8.53606487e-02, 1.28040973e-01, ...,\n",
       "        4.99871959e+02, 4.99914639e+02, 4.99957320e+02])}"
      ]
     },
     "execution_count": 18,
     "metadata": {},
     "output_type": "execute_result"
    }
   ],
   "source": [
    "working_data"
   ]
  },
  {
   "cell_type": "code",
   "execution_count": 60,
   "metadata": {},
   "outputs": [
    {
     "data": {
      "text/plain": [
       "{'bpm': 58.898847631242,\n",
       " 'ibi': 1018.695652173913,\n",
       " 'sdnn': 65.76006108019,\n",
       " 'sdsd': 34.866925292300195,\n",
       " 'rmssd': 64.73723110319973,\n",
       " 'pnn20': 0.8636363636363636,\n",
       " 'pnn50': 0.4090909090909091,\n",
       " 'hr_mad': 40.0,\n",
       " 'sd1': 45.75807746062504,\n",
       " 'sd2': 82.92683223259064,\n",
       " 's': 11921.000815765336,\n",
       " 'sd1/sd2': 0.5517885614186272,\n",
       " 'breathingrate': 0.12804097311139565}"
      ]
     },
     "execution_count": 60,
     "metadata": {},
     "output_type": "execute_result"
    }
   ],
   "source": [
    "measures"
   ]
  },
  {
   "cell_type": "code",
   "execution_count": 33,
   "metadata": {},
   "outputs": [
    {
     "data": {
      "text/plain": [
       "[63,\n",
       " 165,\n",
       " 264,\n",
       " 360,\n",
       " 460,\n",
       " 565,\n",
       " 674,\n",
       " 773,\n",
       " 863,\n",
       " 953,\n",
       " 1048,\n",
       " 1156,\n",
       " 1272,\n",
       " 1385,\n",
       " 1487,\n",
       " 1592,\n",
       " 1698,\n",
       " 1803,\n",
       " 1897,\n",
       " 1994,\n",
       " 2097,\n",
       " 2206,\n",
       " 2308,\n",
       " 2406]"
      ]
     },
     "execution_count": 33,
     "metadata": {},
     "output_type": "execute_result"
    }
   ],
   "source": [
    "peaklist = working_data['peaklist'][0]\n",
    "peaklist"
   ]
  },
  {
   "cell_type": "code",
   "execution_count": 45,
   "metadata": {},
   "outputs": [
    {
     "data": {
      "text/plain": [
       "{'RR_list': array([1020.,  990.,  960., 1000., 1050., 1090.,  990.,  900.,  900.,\n",
       "         950., 1080., 1160., 1130., 1020., 1050., 1060., 1050.,  940.,\n",
       "         970., 1030., 1090., 1020.,  980.]),\n",
       " 'RR_indices': [(63, 165),\n",
       "  (165, 264),\n",
       "  (264, 360),\n",
       "  (360, 460),\n",
       "  (460, 565),\n",
       "  (565, 674),\n",
       "  (674, 773),\n",
       "  (773, 863),\n",
       "  (863, 953),\n",
       "  (953, 1048),\n",
       "  (1048, 1156),\n",
       "  (1156, 1272),\n",
       "  (1272, 1385),\n",
       "  (1385, 1487),\n",
       "  (1487, 1592),\n",
       "  (1592, 1698),\n",
       "  (1698, 1803),\n",
       "  (1803, 1897),\n",
       "  (1897, 1994),\n",
       "  (1994, 2097),\n",
       "  (2097, 2206),\n",
       "  (2206, 2308),\n",
       "  (2308, 2406)],\n",
       " 'RR_diff': array([ 30.,  30.,  40.,  50.,  40., 100.,  90.,   0.,  50., 130.,  80.,\n",
       "         30., 110.,  30.,  10.,  10., 110.,  30.,  60.,  60.,  70.,  40.]),\n",
       " 'RR_sqdiff': array([  900.,   900.,  1600.,  2500.,  1600., 10000.,  8100.,     0.,\n",
       "         2500., 16900.,  6400.,   900., 12100.,   900.,   100.,   100.,\n",
       "        12100.,   900.,  3600.,  3600.,  4900.,  1600.])}"
      ]
     },
     "execution_count": 45,
     "metadata": {},
     "output_type": "execute_result"
    }
   ],
   "source": [
    "wd = hp.analysis.calc_rr(peaklist, sample_rate = 100)\n",
    "wd"
   ]
  },
  {
   "cell_type": "code",
   "execution_count": 47,
   "metadata": {},
   "outputs": [],
   "source": [
    "rrlist = wd['RR_list']"
   ]
  },
  {
   "cell_type": "code",
   "execution_count": 51,
   "metadata": {},
   "outputs": [],
   "source": [
    "m, wd = hp.analysis.calc_breathing(rr_list, measures, working_data)"
   ]
  },
  {
   "cell_type": "code",
   "execution_count": 52,
   "metadata": {},
   "outputs": [
    {
     "data": {
      "text/plain": [
       "{'breathingrate': 0.12804097311139565}"
      ]
     },
     "execution_count": 52,
     "metadata": {},
     "output_type": "execute_result"
    }
   ],
   "source": [
    "m"
   ]
  },
  {
   "cell_type": "code",
   "execution_count": 53,
   "metadata": {},
   "outputs": [
    {
     "data": {
      "text/plain": [
       "{'breathing_signal': array([1020.03170977, 1020.03614097, 1020.04047943, ...,  979.83533006,\n",
       "         979.88536312,  979.93563217]),\n",
       " 'breathing_psd': array([2.21456241e+02, 3.93214395e+02, 7.23467212e+02, ...,\n",
       "        7.31147198e-07, 7.31147133e-07, 7.31147090e-07]),\n",
       " 'breathing_frq': array([4.26803244e-02, 8.53606487e-02, 1.28040973e-01, ...,\n",
       "        4.99871959e+02, 4.99914639e+02, 4.99957320e+02])}"
      ]
     },
     "execution_count": 53,
     "metadata": {},
     "output_type": "execute_result"
    }
   ],
   "source": [
    "wd"
   ]
  },
  {
   "cell_type": "code",
   "execution_count": 55,
   "metadata": {},
   "outputs": [
    {
     "data": {
      "text/plain": [
       "array([ 472.61538462,  354.46153846,  236.30769231,  393.84615385,\n",
       "        590.76923077,  748.30769231,  354.46153846,    0.        ,\n",
       "          0.        ,  196.92307692,  708.92307692, 1024.        ,\n",
       "        905.84615385,  472.61538462,  590.76923077,  630.15384615,\n",
       "        590.76923077,  157.53846154,  275.69230769,  512.        ,\n",
       "        748.30769231,  472.61538462,  315.07692308])"
      ]
     },
     "execution_count": 55,
     "metadata": {},
     "output_type": "execute_result"
    }
   ],
   "source": [
    "hp.preprocessing.scale_data(rrlist)"
   ]
  },
  {
   "cell_type": "code",
   "execution_count": 59,
   "metadata": {},
   "outputs": [
    {
     "ename": "IndexError",
     "evalue": "index 0 is out of bounds for axis 0 with size 0",
     "output_type": "error",
     "traceback": [
      "\u001b[0;31m---------------------------------------------------------------------------\u001b[0m",
      "\u001b[0;31mIndexError\u001b[0m                                Traceback (most recent call last)",
      "\u001b[0;32m<ipython-input-59-2bf00f7f3b18>\u001b[0m in \u001b[0;36m<module>\u001b[0;34m\u001b[0m\n\u001b[0;32m----> 1\u001b[0;31m \u001b[0mhp\u001b[0m\u001b[0;34m.\u001b[0m\u001b[0mvisualizeutils\u001b[0m\u001b[0;34m.\u001b[0m\u001b[0msegment_plotter\u001b[0m\u001b[0;34m(\u001b[0m\u001b[0mworking_data\u001b[0m\u001b[0;34m,\u001b[0m \u001b[0mmeasures\u001b[0m\u001b[0;34m)\u001b[0m\u001b[0;34m\u001b[0m\u001b[0;34m\u001b[0m\u001b[0m\n\u001b[0m",
      "\u001b[0;32m~/anaconda3/lib/python3.7/site-packages/heartpy/visualizeutils.py\u001b[0m in \u001b[0;36msegment_plotter\u001b[0;34m(working_data, measures, title, figsize, path, start, end, step)\u001b[0m\n\u001b[1;32m    169\u001b[0m         \u001b[0mwd_segment\u001b[0m\u001b[0;34m[\u001b[0m\u001b[0;34m'peaklist'\u001b[0m\u001b[0;34m]\u001b[0m \u001b[0;34m=\u001b[0m \u001b[0mworking_data\u001b[0m\u001b[0;34m[\u001b[0m\u001b[0;34m'peaklist'\u001b[0m\u001b[0;34m]\u001b[0m\u001b[0;34m[\u001b[0m\u001b[0mi\u001b[0m\u001b[0;34m]\u001b[0m\u001b[0;34m\u001b[0m\u001b[0;34m\u001b[0m\u001b[0m\n\u001b[1;32m    170\u001b[0m         \u001b[0mwd_segment\u001b[0m\u001b[0;34m[\u001b[0m\u001b[0;34m'ybeat'\u001b[0m\u001b[0;34m]\u001b[0m \u001b[0;34m=\u001b[0m \u001b[0mworking_data\u001b[0m\u001b[0;34m[\u001b[0m\u001b[0;34m'ybeat'\u001b[0m\u001b[0;34m]\u001b[0m\u001b[0;34m[\u001b[0m\u001b[0mi\u001b[0m\u001b[0;34m]\u001b[0m\u001b[0;34m\u001b[0m\u001b[0;34m\u001b[0m\u001b[0m\n\u001b[0;32m--> 171\u001b[0;31m         \u001b[0mwd_segment\u001b[0m\u001b[0;34m[\u001b[0m\u001b[0;34m'removed_beats'\u001b[0m\u001b[0;34m]\u001b[0m \u001b[0;34m=\u001b[0m \u001b[0mworking_data\u001b[0m\u001b[0;34m[\u001b[0m\u001b[0;34m'removed_beats'\u001b[0m\u001b[0;34m]\u001b[0m\u001b[0;34m[\u001b[0m\u001b[0mi\u001b[0m\u001b[0;34m]\u001b[0m\u001b[0;34m\u001b[0m\u001b[0;34m\u001b[0m\u001b[0m\n\u001b[0m\u001b[1;32m    172\u001b[0m         \u001b[0mwd_segment\u001b[0m\u001b[0;34m[\u001b[0m\u001b[0;34m'removed_beats_y'\u001b[0m\u001b[0;34m]\u001b[0m \u001b[0;34m=\u001b[0m \u001b[0mworking_data\u001b[0m\u001b[0;34m[\u001b[0m\u001b[0;34m'removed_beats_y'\u001b[0m\u001b[0;34m]\u001b[0m\u001b[0;34m[\u001b[0m\u001b[0mi\u001b[0m\u001b[0;34m]\u001b[0m\u001b[0;34m\u001b[0m\u001b[0;34m\u001b[0m\u001b[0m\n\u001b[1;32m    173\u001b[0m         \u001b[0mwd_segment\u001b[0m\u001b[0;34m[\u001b[0m\u001b[0;34m'hr'\u001b[0m\u001b[0;34m]\u001b[0m \u001b[0;34m=\u001b[0m \u001b[0mworking_data\u001b[0m\u001b[0;34m[\u001b[0m\u001b[0;34m'hr'\u001b[0m\u001b[0;34m]\u001b[0m\u001b[0;34m[\u001b[0m\u001b[0mi\u001b[0m\u001b[0;34m]\u001b[0m\u001b[0;34m\u001b[0m\u001b[0;34m\u001b[0m\u001b[0m\n",
      "\u001b[0;31mIndexError\u001b[0m: index 0 is out of bounds for axis 0 with size 0"
     ]
    }
   ],
   "source": [
    "hp.visualizeutils.segment_plotter(working_data, measures)"
   ]
  },
  {
   "cell_type": "code",
   "execution_count": null,
   "metadata": {},
   "outputs": [],
   "source": []
  }
 ],
 "metadata": {
  "kernelspec": {
   "display_name": "Python 3",
   "language": "python",
   "name": "python3"
  },
  "language_info": {
   "codemirror_mode": {
    "name": "ipython",
    "version": 3
   },
   "file_extension": ".py",
   "mimetype": "text/x-python",
   "name": "python",
   "nbconvert_exporter": "python",
   "pygments_lexer": "ipython3",
   "version": "3.7.1"
  }
 },
 "nbformat": 4,
 "nbformat_minor": 2
}
