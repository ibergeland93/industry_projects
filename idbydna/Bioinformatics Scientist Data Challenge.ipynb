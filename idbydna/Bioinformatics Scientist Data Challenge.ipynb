{
 "cells": [
  {
   "cell_type": "markdown",
   "metadata": {},
   "source": [
    "# Bioinformatics Scientist Data Challenge"
   ]
  },
  {
   "cell_type": "markdown",
   "metadata": {},
   "source": [
    "Instructions:\n",
    "\n",
    "**Write a python script that computes the following information:**\n",
    "\n",
    "1. Total number of 25mers\n",
    "2. Number of distinct 25mers \n",
    "3. K-mer with the highest count"
   ]
  },
  {
   "cell_type": "markdown",
   "metadata": {},
   "source": [
    "### Step 1 - Data Importation & Libraries"
   ]
  },
  {
   "cell_type": "code",
   "execution_count": 1,
   "metadata": {},
   "outputs": [],
   "source": [
    "import pandas as pd"
   ]
  },
  {
   "cell_type": "markdown",
   "metadata": {},
   "source": [
    "Read in fastA file:"
   ]
  },
  {
   "cell_type": "code",
   "execution_count": 2,
   "metadata": {},
   "outputs": [],
   "source": [
    "openFA = open('SRR1748776.fa')\n",
    "readFA = openFA.read()"
   ]
  },
  {
   "cell_type": "markdown",
   "metadata": {},
   "source": [
    "### Step 2 - Data Formatting "
   ]
  },
  {
   "cell_type": "markdown",
   "metadata": {},
   "source": [
    "Split text into individual sequences and store in a list"
   ]
  },
  {
   "cell_type": "code",
   "execution_count": 3,
   "metadata": {},
   "outputs": [],
   "source": [
    "record = []\n",
    "\n",
    "for line in readFA.rstrip().split(\">\"):\n",
    "    seq = line.rstrip().split(\"\\n\")\n",
    "    record.append(seq)\n",
    "#record"
   ]
  },
  {
   "cell_type": "markdown",
   "metadata": {},
   "source": [
    "Working out how to extract and categorize data from the first group and how to concatenate the subsequences into a full string ..."
   ]
  },
  {
   "cell_type": "code",
   "execution_count": 4,
   "metadata": {},
   "outputs": [
    {
     "data": {
      "text/plain": [
       "['SRR1748776.1', '1', 'length=251']"
      ]
     },
     "execution_count": 4,
     "metadata": {},
     "output_type": "execute_result"
    }
   ],
   "source": [
    "record[1][0].split(' ')"
   ]
  },
  {
   "cell_type": "code",
   "execution_count": 5,
   "metadata": {},
   "outputs": [
    {
     "data": {
      "text/plain": [
       "'CGGTTCAGCAGGAATGCCGAGATCGGAAGAGCGGTTCAGCAGGAATGCCGAGACCGGATAGCGATCTCGTATGCCGTCTTCTGCTTGAAAAAAAAAGACAAGGCTCCTGAATTCGCGTCTGCATATCGGGTGACCATCCCCCAAGGCCTAATCCGCCAACCTGACCGACAGCGATCCATTACCGCGAGGGAAAGGCGCTACTACCCCCTGTGAGGTCAGCGAACCAGATCCTTACACCGGATCGGTATAGC'"
      ]
     },
     "execution_count": 5,
     "metadata": {},
     "output_type": "execute_result"
    }
   ],
   "source": [
    "record[1][1] + record[1][2] + record[1][3] + record[1][4]"
   ]
  },
  {
   "cell_type": "markdown",
   "metadata": {},
   "source": [
    "For loop that gathers all necessary data (name, id, length, and full sequence) and stores each variable in a separate list."
   ]
  },
  {
   "cell_type": "code",
   "execution_count": 6,
   "metadata": {},
   "outputs": [],
   "source": [
    "names = []\n",
    "ids = []\n",
    "lengths = []\n",
    "sequences = []\n",
    "\n",
    "for i in range(1, len(record)) :\n",
    "    name, id, length = record[i][0].split(' ')\n",
    "    \n",
    "    seq = record[i][1] + record[i][2] + record[i][3] + record[i][4]\n",
    "    \n",
    "    names.append(name)\n",
    "    ids.append(id)\n",
    "    lengths.append(length)\n",
    "    sequences.append(seq)"
   ]
  },
  {
   "cell_type": "markdown",
   "metadata": {},
   "source": [
    "### Step 3 - Create Dataframe with all sequence information "
   ]
  },
  {
   "cell_type": "code",
   "execution_count": 7,
   "metadata": {},
   "outputs": [
    {
     "data": {
      "text/html": [
       "<div>\n",
       "<style scoped>\n",
       "    .dataframe tbody tr th:only-of-type {\n",
       "        vertical-align: middle;\n",
       "    }\n",
       "\n",
       "    .dataframe tbody tr th {\n",
       "        vertical-align: top;\n",
       "    }\n",
       "\n",
       "    .dataframe thead th {\n",
       "        text-align: right;\n",
       "    }\n",
       "</style>\n",
       "<table border=\"1\" class=\"dataframe\">\n",
       "  <thead>\n",
       "    <tr style=\"text-align: right;\">\n",
       "      <th></th>\n",
       "      <th>name</th>\n",
       "      <th>id</th>\n",
       "      <th>length</th>\n",
       "      <th>sequence</th>\n",
       "    </tr>\n",
       "  </thead>\n",
       "  <tbody>\n",
       "    <tr>\n",
       "      <th>0</th>\n",
       "      <td>SRR1748776.1</td>\n",
       "      <td>1</td>\n",
       "      <td>length=251</td>\n",
       "      <td>CGGTTCAGCAGGAATGCCGAGATCGGAAGAGCGGTTCAGCAGGAAT...</td>\n",
       "    </tr>\n",
       "    <tr>\n",
       "      <th>1</th>\n",
       "      <td>SRR1748776.1</td>\n",
       "      <td>1</td>\n",
       "      <td>length=251</td>\n",
       "      <td>CGGCATTCCTGCTGAACCGAGATCGGAAGAGCGTCGTGTAGGGAAA...</td>\n",
       "    </tr>\n",
       "    <tr>\n",
       "      <th>2</th>\n",
       "      <td>SRR1748776.2</td>\n",
       "      <td>2</td>\n",
       "      <td>length=251</td>\n",
       "      <td>CGGAAGAGCGGTTCAGCAGGAATGCCGAGATCGGAAGAGCGGTTCA...</td>\n",
       "    </tr>\n",
       "    <tr>\n",
       "      <th>3</th>\n",
       "      <td>SRR1748776.2</td>\n",
       "      <td>2</td>\n",
       "      <td>length=251</td>\n",
       "      <td>CGGCATTCCTGCTGAACCGCTCTTCCGAGATCGGAAGAGCGTCGTG...</td>\n",
       "    </tr>\n",
       "    <tr>\n",
       "      <th>4</th>\n",
       "      <td>SRR1748776.3</td>\n",
       "      <td>3</td>\n",
       "      <td>length=251</td>\n",
       "      <td>CGGAAGAGCGGTTCAGCAGGAATGCCGAGATCGGAAGAGCGGTTCA...</td>\n",
       "    </tr>\n",
       "  </tbody>\n",
       "</table>\n",
       "</div>"
      ],
      "text/plain": [
       "           name id      length  \\\n",
       "0  SRR1748776.1  1  length=251   \n",
       "1  SRR1748776.1  1  length=251   \n",
       "2  SRR1748776.2  2  length=251   \n",
       "3  SRR1748776.2  2  length=251   \n",
       "4  SRR1748776.3  3  length=251   \n",
       "\n",
       "                                            sequence  \n",
       "0  CGGTTCAGCAGGAATGCCGAGATCGGAAGAGCGGTTCAGCAGGAAT...  \n",
       "1  CGGCATTCCTGCTGAACCGAGATCGGAAGAGCGTCGTGTAGGGAAA...  \n",
       "2  CGGAAGAGCGGTTCAGCAGGAATGCCGAGATCGGAAGAGCGGTTCA...  \n",
       "3  CGGCATTCCTGCTGAACCGCTCTTCCGAGATCGGAAGAGCGTCGTG...  \n",
       "4  CGGAAGAGCGGTTCAGCAGGAATGCCGAGATCGGAAGAGCGGTTCA...  "
      ]
     },
     "execution_count": 7,
     "metadata": {},
     "output_type": "execute_result"
    }
   ],
   "source": [
    "df = pd.DataFrame(list(zip(names, ids, lengths, sequences)), columns = ['name', 'id', 'length', 'sequence'])\n",
    "\n",
    "df.head()"
   ]
  },
  {
   "cell_type": "markdown",
   "metadata": {},
   "source": [
    "### Step 4 - Create a Dictionary that stores sequence name as key and kmer count as value"
   ]
  },
  {
   "cell_type": "markdown",
   "metadata": {},
   "source": [
    "1. Creates empty dictionary kmer_count"
   ]
  },
  {
   "cell_type": "markdown",
   "metadata": {},
   "source": [
    "2. Creates for loop that loops over the entire length of ~ 315,000 sequences\n",
    "    \n",
    "    k: the number of nucleotide bases in each subsequence\n",
    "    \n",
    "    seq: specifies which of the ~ 315,000 sequences is currently being evaluated\n",
    "    "
   ]
  },
  {
   "cell_type": "markdown",
   "metadata": {},
   "source": [
    "3. Creates loop that loops over the total length of the selected sequence, minus k (the number of bases in a subsequence to spare for the end of the sequence, plus 1 (to accommodate 0 index)\n",
    "    \n",
    "    kmer: the selected sequence at position i to i + k -- this local variable updates one position forward at each i to span the whole length of the sequence in groups of 25\n",
    "    \n",
    "    kmer_count[kmer]: using dict.get(key, default_return_val) method, the input string is searched for in the dictionary and a count of 1 is added if it is found. The default value is 0, meaning if the sequence is not found a zero value will be returned. \n",
    "        \n",
    "    kmer_counts: returns a list with all dictionary keys and values\n",
    "    SORTED kmer_counts: sorts kmer_counts from highest to lowest count value using key = lambda tup: tup[1] "
   ]
  },
  {
   "cell_type": "code",
   "execution_count": 8,
   "metadata": {},
   "outputs": [],
   "source": [
    "kmer_count = {}\n",
    "\n",
    "for j in range(len(df['sequence'])) :\n",
    "       \n",
    "    k = 25\n",
    "    seq = df['sequence'][j]\n",
    "\n",
    "    for i in range(len(seq) - k + 1) :\n",
    "    \n",
    "        kmer = seq[i : i + k]\n",
    "        kmer_count[kmer] = kmer_count.get(kmer,0) + 1  \n",
    "                \n",
    "kmer_counts = kmer_count.items()\n",
    "kmer_counts = sorted(kmer_counts, reverse = True, key = lambda tup: tup[1])"
   ]
  },
  {
   "cell_type": "markdown",
   "metadata": {},
   "source": [
    "Display kmer_counts: list of tuples"
   ]
  },
  {
   "cell_type": "code",
   "execution_count": 9,
   "metadata": {},
   "outputs": [],
   "source": [
    "#kmer_counts"
   ]
  },
  {
   "cell_type": "markdown",
   "metadata": {},
   "source": [
    "### Step 5 - Create a Dataframe with all 25mer sequences and counts "
   ]
  },
  {
   "cell_type": "markdown",
   "metadata": {},
   "source": [
    "This dataframe lists each unique 25mer sequence along with the number of times the sequence appeared throughout the entire fastA file of sequences."
   ]
  },
  {
   "cell_type": "code",
   "execution_count": 10,
   "metadata": {},
   "outputs": [
    {
     "data": {
      "text/html": [
       "<div>\n",
       "<style scoped>\n",
       "    .dataframe tbody tr th:only-of-type {\n",
       "        vertical-align: middle;\n",
       "    }\n",
       "\n",
       "    .dataframe tbody tr th {\n",
       "        vertical-align: top;\n",
       "    }\n",
       "\n",
       "    .dataframe thead th {\n",
       "        text-align: right;\n",
       "    }\n",
       "</style>\n",
       "<table border=\"1\" class=\"dataframe\">\n",
       "  <thead>\n",
       "    <tr style=\"text-align: right;\">\n",
       "      <th></th>\n",
       "      <th>Sequence</th>\n",
       "      <th>Counts</th>\n",
       "    </tr>\n",
       "  </thead>\n",
       "  <tbody>\n",
       "    <tr>\n",
       "      <th>0</th>\n",
       "      <td>CGGAAGAGCGGTTCAGCAGGAATGC</td>\n",
       "      <td>62777</td>\n",
       "    </tr>\n",
       "    <tr>\n",
       "      <th>1</th>\n",
       "      <td>GGAAGAGCGGTTCAGCAGGAATGCC</td>\n",
       "      <td>62513</td>\n",
       "    </tr>\n",
       "    <tr>\n",
       "      <th>2</th>\n",
       "      <td>GAAGAGCGGTTCAGCAGGAATGCCG</td>\n",
       "      <td>62472</td>\n",
       "    </tr>\n",
       "    <tr>\n",
       "      <th>3</th>\n",
       "      <td>AAGAGCGGTTCAGCAGGAATGCCGA</td>\n",
       "      <td>62426</td>\n",
       "    </tr>\n",
       "    <tr>\n",
       "      <th>4</th>\n",
       "      <td>GAGCGGTTCAGCAGGAATGCCGAGA</td>\n",
       "      <td>62328</td>\n",
       "    </tr>\n",
       "    <tr>\n",
       "      <th>5</th>\n",
       "      <td>AGAGCGGTTCAGCAGGAATGCCGAG</td>\n",
       "      <td>62323</td>\n",
       "    </tr>\n",
       "    <tr>\n",
       "      <th>6</th>\n",
       "      <td>GATCGGAAGAGCGGTTCAGCAGGAA</td>\n",
       "      <td>54693</td>\n",
       "    </tr>\n",
       "    <tr>\n",
       "      <th>7</th>\n",
       "      <td>TCGGAAGAGCGGTTCAGCAGGAATG</td>\n",
       "      <td>54661</td>\n",
       "    </tr>\n",
       "    <tr>\n",
       "      <th>8</th>\n",
       "      <td>ATCGGAAGAGCGGTTCAGCAGGAAT</td>\n",
       "      <td>54558</td>\n",
       "    </tr>\n",
       "    <tr>\n",
       "      <th>9</th>\n",
       "      <td>CGGTTCAGCAGGAATGCCGAGACCG</td>\n",
       "      <td>53348</td>\n",
       "    </tr>\n",
       "    <tr>\n",
       "      <th>10</th>\n",
       "      <td>AGCGGTTCAGCAGGAATGCCGAGAC</td>\n",
       "      <td>53345</td>\n",
       "    </tr>\n",
       "    <tr>\n",
       "      <th>11</th>\n",
       "      <td>TCAGCAGGAATGCCGAGACCGGATA</td>\n",
       "      <td>53333</td>\n",
       "    </tr>\n",
       "    <tr>\n",
       "      <th>12</th>\n",
       "      <td>GCGGTTCAGCAGGAATGCCGAGACC</td>\n",
       "      <td>53291</td>\n",
       "    </tr>\n",
       "    <tr>\n",
       "      <th>13</th>\n",
       "      <td>CAGCAGGAATGCCGAGACCGGATAG</td>\n",
       "      <td>53275</td>\n",
       "    </tr>\n",
       "    <tr>\n",
       "      <th>14</th>\n",
       "      <td>AGCAGGAATGCCGAGACCGGATAGC</td>\n",
       "      <td>53269</td>\n",
       "    </tr>\n",
       "  </tbody>\n",
       "</table>\n",
       "</div>"
      ],
      "text/plain": [
       "                     Sequence  Counts\n",
       "0   CGGAAGAGCGGTTCAGCAGGAATGC   62777\n",
       "1   GGAAGAGCGGTTCAGCAGGAATGCC   62513\n",
       "2   GAAGAGCGGTTCAGCAGGAATGCCG   62472\n",
       "3   AAGAGCGGTTCAGCAGGAATGCCGA   62426\n",
       "4   GAGCGGTTCAGCAGGAATGCCGAGA   62328\n",
       "5   AGAGCGGTTCAGCAGGAATGCCGAG   62323\n",
       "6   GATCGGAAGAGCGGTTCAGCAGGAA   54693\n",
       "7   TCGGAAGAGCGGTTCAGCAGGAATG   54661\n",
       "8   ATCGGAAGAGCGGTTCAGCAGGAAT   54558\n",
       "9   CGGTTCAGCAGGAATGCCGAGACCG   53348\n",
       "10  AGCGGTTCAGCAGGAATGCCGAGAC   53345\n",
       "11  TCAGCAGGAATGCCGAGACCGGATA   53333\n",
       "12  GCGGTTCAGCAGGAATGCCGAGACC   53291\n",
       "13  CAGCAGGAATGCCGAGACCGGATAG   53275\n",
       "14  AGCAGGAATGCCGAGACCGGATAGC   53269"
      ]
     },
     "execution_count": 10,
     "metadata": {},
     "output_type": "execute_result"
    }
   ],
   "source": [
    "counts_df = pd.DataFrame(kmer_counts, columns = ['Sequence', 'Counts'])\n",
    "counts_df.head(15)"
   ]
  },
  {
   "cell_type": "markdown",
   "metadata": {},
   "source": [
    "# ANSWERS"
   ]
  },
  {
   "cell_type": "markdown",
   "metadata": {},
   "source": [
    "#### Total Number of 25mers"
   ]
  },
  {
   "cell_type": "code",
   "execution_count": 11,
   "metadata": {},
   "outputs": [
    {
     "name": "stdout",
     "output_type": "stream",
     "text": [
      "The total number of 25mers is: 29513632\n"
     ]
    }
   ],
   "source": [
    "print('The total number of 25mers is:', sum(counts_df['Counts']))"
   ]
  },
  {
   "cell_type": "markdown",
   "metadata": {},
   "source": [
    "#### Number of Distinct 25mers "
   ]
  },
  {
   "cell_type": "markdown",
   "metadata": {},
   "source": [
    "Distinct k-mers should be count of k-mers that occur at least once in reads/data"
   ]
  },
  {
   "cell_type": "code",
   "execution_count": 12,
   "metadata": {},
   "outputs": [
    {
     "name": "stdout",
     "output_type": "stream",
     "text": [
      "The total number of distinct 25mers is: 21418789\n"
     ]
    }
   ],
   "source": [
    "print('The total number of distinct 25mers is:', len(counts_df['Counts']))"
   ]
  },
  {
   "cell_type": "markdown",
   "metadata": {},
   "source": [
    "#### K-mer With the Highest Count"
   ]
  },
  {
   "cell_type": "code",
   "execution_count": 13,
   "metadata": {},
   "outputs": [
    {
     "data": {
      "text/html": [
       "<div>\n",
       "<style scoped>\n",
       "    .dataframe tbody tr th:only-of-type {\n",
       "        vertical-align: middle;\n",
       "    }\n",
       "\n",
       "    .dataframe tbody tr th {\n",
       "        vertical-align: top;\n",
       "    }\n",
       "\n",
       "    .dataframe thead th {\n",
       "        text-align: right;\n",
       "    }\n",
       "</style>\n",
       "<table border=\"1\" class=\"dataframe\">\n",
       "  <thead>\n",
       "    <tr style=\"text-align: right;\">\n",
       "      <th></th>\n",
       "      <th>Sequence</th>\n",
       "      <th>Counts</th>\n",
       "    </tr>\n",
       "  </thead>\n",
       "  <tbody>\n",
       "    <tr>\n",
       "      <th>0</th>\n",
       "      <td>CGGAAGAGCGGTTCAGCAGGAATGC</td>\n",
       "      <td>62777</td>\n",
       "    </tr>\n",
       "  </tbody>\n",
       "</table>\n",
       "</div>"
      ],
      "text/plain": [
       "                    Sequence  Counts\n",
       "0  CGGAAGAGCGGTTCAGCAGGAATGC   62777"
      ]
     },
     "execution_count": 13,
     "metadata": {},
     "output_type": "execute_result"
    }
   ],
   "source": [
    "counts_df[list(counts_df.Counts == max(counts_df.Counts))]"
   ]
  },
  {
   "cell_type": "code",
   "execution_count": null,
   "metadata": {},
   "outputs": [],
   "source": []
  }
 ],
 "metadata": {
  "kernelspec": {
   "display_name": "Python 3",
   "language": "python",
   "name": "python3"
  },
  "language_info": {
   "codemirror_mode": {
    "name": "ipython",
    "version": 3
   },
   "file_extension": ".py",
   "mimetype": "text/x-python",
   "name": "python",
   "nbconvert_exporter": "python",
   "pygments_lexer": "ipython3",
   "version": "3.7.1"
  }
 },
 "nbformat": 4,
 "nbformat_minor": 2
}
